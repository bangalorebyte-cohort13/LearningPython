{
 "cells": [
  {
   "cell_type": "markdown",
   "metadata": {},
   "source": [
    "# First Class Functional Objects"
   ]
  },
  {
   "cell_type": "code",
   "execution_count": 57,
   "metadata": {},
   "outputs": [
    {
     "name": "stdout",
     "output_type": "stream",
     "text": [
      "hello there\n"
     ]
    }
   ],
   "source": [
    "def echo(msg):\n",
    "    ''' This is a documentation for echo '''\n",
    "    #count = 0\n",
    "    #a = 20\n",
    "    print(msg)\n",
    "    \n",
    "echo('hello there')"
   ]
  },
  {
   "cell_type": "code",
   "execution_count": 52,
   "metadata": {},
   "outputs": [
    {
     "name": "stdout",
     "output_type": "stream",
     "text": [
      "hello x\n",
      "hello y\n",
      "hello z\n"
     ]
    }
   ],
   "source": [
    "x = echo\n",
    "x('hello x')\n",
    "\n",
    "y = echo\n",
    "y('hello y')\n",
    "\n",
    "z = echo\n",
    "z('hello z')"
   ]
  },
  {
   "cell_type": "code",
   "execution_count": 55,
   "metadata": {},
   "outputs": [
    {
     "name": "stdout",
     "output_type": "stream",
     "text": [
      "Sending through indirect\n"
     ]
    }
   ],
   "source": [
    "def echo(msg):\n",
    "    print(msg)\n",
    "\n",
    "def indirect(func,msg):\n",
    "    #func(msg) # echo('Sending through indirect')\n",
    "    msg(func)\n",
    "\n",
    "#indirect(echo,'Sending through indirect')\n",
    "indirect('Sending through indirect',echo)"
   ]
  },
  {
   "cell_type": "code",
   "execution_count": 51,
   "metadata": {},
   "outputs": [
    {
     "name": "stdout",
     "output_type": "stream",
     "text": [
      "<function echo at 0x10693fd08> SPAM!\n",
      "SPAM!\n",
      "<function echo at 0x10693fd08> HAM!\n",
      "HAM!\n"
     ]
    }
   ],
   "source": [
    "schedule = [(echo,'SPAM!'), (echo,'HAM!')]\n",
    "\n",
    "for (func,arg) in schedule:\n",
    "    print(func,arg)\n",
    "    func(arg)"
   ]
  },
  {
   "cell_type": "markdown",
   "metadata": {},
   "source": [
    "# Function Introspection"
   ]
  },
  {
   "cell_type": "code",
   "execution_count": 56,
   "metadata": {},
   "outputs": [
    {
     "data": {
      "text/plain": [
       "['__annotations__',\n",
       " '__call__',\n",
       " '__class__',\n",
       " '__closure__',\n",
       " '__code__',\n",
       " '__defaults__',\n",
       " '__delattr__',\n",
       " '__dict__',\n",
       " '__dir__',\n",
       " '__doc__',\n",
       " '__eq__',\n",
       " '__format__',\n",
       " '__ge__',\n",
       " '__get__',\n",
       " '__getattribute__',\n",
       " '__globals__',\n",
       " '__gt__',\n",
       " '__hash__',\n",
       " '__init__',\n",
       " '__kwdefaults__',\n",
       " '__le__',\n",
       " '__lt__',\n",
       " '__module__',\n",
       " '__name__',\n",
       " '__ne__',\n",
       " '__new__',\n",
       " '__qualname__',\n",
       " '__reduce__',\n",
       " '__reduce_ex__',\n",
       " '__repr__',\n",
       " '__setattr__',\n",
       " '__sizeof__',\n",
       " '__str__',\n",
       " '__subclasshook__']"
      ]
     },
     "execution_count": 56,
     "metadata": {},
     "output_type": "execute_result"
    }
   ],
   "source": [
    "dir(echo)"
   ]
  },
  {
   "cell_type": "code",
   "execution_count": 69,
   "metadata": {},
   "outputs": [
    {
     "data": {
      "text/plain": [
       "['__annotations__',\n",
       " '__call__',\n",
       " '__class__',\n",
       " '__closure__',\n",
       " '__code__',\n",
       " '__defaults__',\n",
       " '__delattr__',\n",
       " '__dict__',\n",
       " '__dir__',\n",
       " '__doc__',\n",
       " '__eq__',\n",
       " '__format__',\n",
       " '__ge__',\n",
       " '__get__',\n",
       " '__getattribute__',\n",
       " '__globals__',\n",
       " '__gt__',\n",
       " '__hash__',\n",
       " '__init__',\n",
       " '__kwdefaults__',\n",
       " '__le__',\n",
       " '__lt__',\n",
       " '__module__',\n",
       " '__name__',\n",
       " '__ne__',\n",
       " '__new__',\n",
       " '__qualname__',\n",
       " '__reduce__',\n",
       " '__reduce_ex__',\n",
       " '__repr__',\n",
       " '__setattr__',\n",
       " '__sizeof__',\n",
       " '__str__',\n",
       " '__subclasshook__',\n",
       " 'a',\n",
       " 'count']"
      ]
     },
     "execution_count": 69,
     "metadata": {},
     "output_type": "execute_result"
    }
   ],
   "source": [
    "\n",
    "echo.count = 0\n",
    "echo.a = 20\n",
    "\n",
    "dir(echo)"
   ]
  },
  {
   "cell_type": "code",
   "execution_count": 68,
   "metadata": {},
   "outputs": [
    {
     "data": {
      "text/plain": [
       "'echo'"
      ]
     },
     "execution_count": 68,
     "metadata": {},
     "output_type": "execute_result"
    }
   ],
   "source": [
    "#echo.__doc__\n",
    "#echo.__name__\n",
    "x = echo\n",
    "x.__name__"
   ]
  },
  {
   "cell_type": "markdown",
   "metadata": {},
   "source": [
    "# Python Closures"
   ]
  },
  {
   "cell_type": "code",
   "execution_count": null,
   "metadata": {},
   "outputs": [],
   "source": []
  },
  {
   "cell_type": "code",
   "execution_count": 83,
   "metadata": {},
   "outputs": [],
   "source": [
    "def sample():\n",
    "    n = 0           \n",
    "    # Closure function\n",
    "    def func():\n",
    "        print('n=', n)\n",
    "    \n",
    "    # Accessor methods for n\n",
    "    def get_n():\n",
    "        return n\n",
    "\n",
    "    def set_n(value):\n",
    "        nonlocal n\n",
    "        n = value\n",
    "\n",
    "    # Attach as function attributes\n",
    "    func.get = get_n # echo.count = 10\n",
    "    func.set = set_n # echo.a = 20\n",
    "    \n",
    "    return func"
   ]
  },
  {
   "cell_type": "code",
   "execution_count": null,
   "metadata": {},
   "outputs": [],
   "source": [
    "\n"
   ]
  },
  {
   "cell_type": "code",
   "execution_count": 89,
   "metadata": {},
   "outputs": [],
   "source": [
    "def make_printer_closure(msg):\n",
    "    \n",
    "    def printer():\n",
    "        print(msg)\n",
    "        print(locals())\n",
    "    \n",
    "    return printer\n"
   ]
  },
  {
   "cell_type": "code",
   "execution_count": 88,
   "metadata": {},
   "outputs": [
    {
     "name": "stdout",
     "output_type": "stream",
     "text": [
      "Foo-closure\n",
      "{'msg': 'Foo-closure'}\n"
     ]
    }
   ],
   "source": [
    "pn = make_printer_closure('Foo-closure')\n",
    "pn()"
   ]
  },
  {
   "cell_type": "code",
   "execution_count": 80,
   "metadata": {},
   "outputs": [
    {
     "name": "stdout",
     "output_type": "stream",
     "text": [
      "10\n"
     ]
    }
   ],
   "source": [
    "f = sample()\n",
    "\n",
    "#f()\n",
    "#n= 0\n",
    "\n",
    "f.set(10)\n",
    "#f()\n",
    "print(f.get())\n",
    "\n",
    "#pn = make_printer_nested('Foo-Nested')\n",
    "#pn()\n",
    "\n"
   ]
  },
  {
   "cell_type": "markdown",
   "metadata": {},
   "source": [
    "# Variable length arguments\n"
   ]
  },
  {
   "cell_type": "code",
   "execution_count": 21,
   "metadata": {},
   "outputs": [],
   "source": [
    "def normalfunc(arg):\n",
    "    #print(type(arg))\n",
    "    print(arg)\n",
    "\n",
    "def variablefunc(*args):\n",
    "    #print(type(args))\n",
    "    for i in range(len(args)):\n",
    "        #print(type(args[i]))\n",
    "        print(args[i])\n",
    "\n"
   ]
  },
  {
   "cell_type": "code",
   "execution_count": 22,
   "metadata": {},
   "outputs": [
    {
     "name": "stdout",
     "output_type": "stream",
     "text": [
      "10\n",
      "hello\n",
      "[1, 2, 3, 4, 5]\n",
      "10\n",
      "10\n",
      "10\n",
      "10\n",
      "10\n",
      "hello\n",
      "10\n",
      "hello\n",
      "[1, 2, 3, 4, 5]\n"
     ]
    }
   ],
   "source": [
    "integervar = 10\n",
    "stringvar = 'hello'\n",
    "listvar = [1,2,3,4,5]\n",
    "\n",
    "normalfunc(integervar)\n",
    "normalfunc(stringvar)\n",
    "normalfunc(listvar)\n",
    "normalfunc(integervar)\n",
    "\n",
    "variablefunc(integervar)\n",
    "variablefunc(integervar,integervar)\n",
    "variablefunc(integervar,stringvar)\n",
    "variablefunc(integervar,stringvar,listvar)"
   ]
  },
  {
   "cell_type": "markdown",
   "metadata": {},
   "source": [
    "# Function Annotations"
   ]
  },
  {
   "cell_type": "code",
   "execution_count": 6,
   "metadata": {},
   "outputs": [],
   "source": [
    "def func(a: 'spam', b: (1, 10), c: float) -> int:\n",
    "    return a+b+c"
   ]
  },
  {
   "cell_type": "code",
   "execution_count": 10,
   "metadata": {},
   "outputs": [
    {
     "data": {
      "text/plain": [
       "{'a': 'spam', 'b': (1, 10), 'c': float, 'return': int}"
      ]
     },
     "execution_count": 10,
     "metadata": {},
     "output_type": "execute_result"
    }
   ],
   "source": [
    "func.__annotations__"
   ]
  },
  {
   "cell_type": "code",
   "execution_count": 9,
   "metadata": {},
   "outputs": [
    {
     "data": {
      "text/plain": [
       "22"
      ]
     },
     "execution_count": 9,
     "metadata": {},
     "output_type": "execute_result"
    }
   ],
   "source": [
    "func(4,12,6)"
   ]
  },
  {
   "cell_type": "code",
   "execution_count": 108,
   "metadata": {},
   "outputs": [],
   "source": [
    "# Filter and Reduce"
   ]
  },
  {
   "cell_type": "code",
   "execution_count": 122,
   "metadata": {},
   "outputs": [
    {
     "data": {
      "text/plain": [
       "[0, 0, 0, 0, 0, 0, 1, 4, 9, 16]"
      ]
     },
     "execution_count": 122,
     "metadata": {},
     "output_type": "execute_result"
    }
   ],
   "source": [
    "g = lambda x : x*x if x>0 else 0 \n",
    "\n",
    "m = map(g, range(-5,5))\n",
    "list(m)\n",
    "\n"
   ]
  },
  {
   "cell_type": "code",
   "execution_count": 126,
   "metadata": {},
   "outputs": [
    {
     "data": {
      "text/plain": [
       "[1, 2, 3, 4]"
      ]
     },
     "execution_count": 126,
     "metadata": {},
     "output_type": "execute_result"
    }
   ],
   "source": [
    "f = filter(lambda x:x>0, range(-5,5))\n",
    "list(f)"
   ]
  },
  {
   "cell_type": "code",
   "execution_count": 127,
   "metadata": {},
   "outputs": [
    {
     "data": {
      "text/plain": [
       "[1, 2, 3, 4]"
      ]
     },
     "execution_count": 127,
     "metadata": {},
     "output_type": "execute_result"
    }
   ],
   "source": [
    "[x for x in range(-5,5) if x > 0 ]"
   ]
  },
  {
   "cell_type": "code",
   "execution_count": 33,
   "metadata": {},
   "outputs": [
    {
     "data": {
      "text/plain": [
       "[1, 2, 3, 4]"
      ]
     },
     "execution_count": 33,
     "metadata": {},
     "output_type": "execute_result"
    }
   ],
   "source": [
    "list(f)"
   ]
  },
  {
   "cell_type": "code",
   "execution_count": 136,
   "metadata": {},
   "outputs": [
    {
     "data": {
      "text/plain": [
       "6"
      ]
     },
     "execution_count": 136,
     "metadata": {},
     "output_type": "execute_result"
    }
   ],
   "source": [
    "from functools import reduce\n",
    "\n",
    "r = reduce((lambda x,y: x*y),[1,2,3])\n",
    "r"
   ]
  },
  {
   "cell_type": "code",
   "execution_count": 135,
   "metadata": {},
   "outputs": [
    {
     "data": {
      "text/plain": [
       "['sS',\n",
       " 'sP',\n",
       " 'sA',\n",
       " 'sM',\n",
       " 'pS',\n",
       " 'pP',\n",
       " 'pA',\n",
       " 'pM',\n",
       " 'aS',\n",
       " 'aP',\n",
       " 'aA',\n",
       " 'aM',\n",
       " 'mS',\n",
       " 'mP',\n",
       " 'mA',\n",
       " 'mM']"
      ]
     },
     "execution_count": 135,
     "metadata": {},
     "output_type": "execute_result"
    }
   ],
   "source": [
    "[x + y for x in 'spam' for y in 'SPAM']"
   ]
  },
  {
   "cell_type": "code",
   "execution_count": null,
   "metadata": {},
   "outputs": [],
   "source": []
  }
 ],
 "metadata": {
  "kernelspec": {
   "display_name": "Python 3",
   "language": "python",
   "name": "python3"
  },
  "language_info": {
   "codemirror_mode": {
    "name": "ipython",
    "version": 3
   },
   "file_extension": ".py",
   "mimetype": "text/x-python",
   "name": "python",
   "nbconvert_exporter": "python",
   "pygments_lexer": "ipython3",
   "version": "3.5.2rc1"
  }
 },
 "nbformat": 4,
 "nbformat_minor": 2
}
