{
 "cells": [
  {
   "cell_type": "code",
   "execution_count": 1,
   "metadata": {},
   "outputs": [
    {
     "name": "stdout",
     "output_type": "stream",
     "text": [
      "(5050, 2.002716064453125e-05)\n",
      "(500500, 0.00017404556274414062)\n"
     ]
    }
   ],
   "source": [
    "import time\n",
    "\n",
    "def sumofn2(n):\n",
    "\tstart = time.time()\n",
    "\n",
    "\tthesum = 0\n",
    "\tfor i in range(1,n+1):\n",
    "\t\tthesum = thesum + i\n",
    "\tend = time.time()\n",
    "\treturn(thesum, end-start)\n",
    "\n",
    "print(sumofn2(100))\n",
    "print(sumofn2(1000))"
   ]
  },
  {
   "cell_type": "code",
   "execution_count": null,
   "metadata": {
    "collapsed": true
   },
   "outputs": [],
   "source": []
  }
 ],
 "metadata": {
  "kernelspec": {
   "display_name": "Python 3",
   "language": "python",
   "name": "python3"
  },
  "language_info": {
   "codemirror_mode": {
    "name": "ipython",
    "version": 3
   },
   "file_extension": ".py",
   "mimetype": "text/x-python",
   "name": "python",
   "nbconvert_exporter": "python",
   "pygments_lexer": "ipython3",
   "version": "3.5.2rc1"
  }
 },
 "nbformat": 4,
 "nbformat_minor": 2
}
